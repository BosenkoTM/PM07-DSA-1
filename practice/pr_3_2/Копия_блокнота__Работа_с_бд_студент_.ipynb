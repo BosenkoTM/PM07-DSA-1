{
  "nbformat": 4,
  "nbformat_minor": 0,
  "metadata": {
    "colab": {
      "provenance": [],
      "collapsed_sections": [
        "GdoLIRENW0iB"
      ]
    },
    "kernelspec": {
      "name": "python3",
      "display_name": "Python 3"
    }
  },
  "cells": [
    {
      "cell_type": "markdown",
      "metadata": {
        "id": "view-in-github"
      },
      "source": [
        "<a href=\"https://colab.research.google.com/github/BosenkoTM/Distributed_systems/blob/main/%D0%9A%D0%BE%D0%BF%D0%B8%D1%8F_%D0%B1%D0%BB%D0%BE%D0%BA%D0%BD%D0%BE%D1%82%D0%B0_%22%D0%9F%D1%80%D0%BE%D0%B3%D1%80%D0%B0%D0%BC%D0%BC%D0%B8%D1%80%D0%BE%D0%B2%D0%B0%D0%BD%D0%B8%D0%B5_%D0%B4%D0%BB%D1%8F_%D0%90%D0%BD%D0%B0%D0%BB%D0%B8%D1%82%D0%B8%D0%BA%D0%BE%D0%B2_Pandas_1_ipynb%22.ipynb\" target=\"_parent\"><img src=\"https://colab.research.google.com/assets/colab-badge.svg\" alt=\"Open In Colab\"/></a>"
      ]
    },
    {
      "cell_type": "markdown",
      "metadata": {
        "id": "1VkXcRACpx5v"
      },
      "source": [
        "# **1.PANDAS**"
      ]
    },
    {
      "cell_type": "markdown",
      "metadata": {
        "id": "Xw-Wh8tD1OS7"
      },
      "source": [
        "**Введение**\n",
        "\n",
        "Для того чтобы эффективно работать с этой библиотекой, нужно понять основные структуры данных.\n",
        "**Series** – это структура данных принципиально похожая на список и словарь в Python. Используется в качестве столбцов в таблице.\n",
        "**DataFrame** – если говорить простыми словами, то эта структура данных представляет из себя обычную таблицу. Иными словами табличная структура данных. Как и во всех таблицах она состоит из строк и столбцов. Столбцами выступают объекты **Series**, а строки его элементы.\n"
      ]
    },
    {
      "cell_type": "code",
      "metadata": {
        "id": "aKkc9R8foxAT"
      },
      "source": [
        "import numpy as np\n",
        "\n"
      ],
      "execution_count": null,
      "outputs": []
    },
    {
      "cell_type": "markdown",
      "metadata": {
        "id": "kyRaIUte0md6"
      },
      "source": [
        "**Использование**\n",
        "\n",
        "Чтобы показать библиотеку в работе, нам нужны какие нибудь статистические данные, для примера давайте возьмем [данные ВВП](https://ru.wikipedia.org/wiki/%D0%A1%D0%BF%D0%B8%D1%81%D0%BE%D0%BA_%D1%81%D1%82%D1%80%D0%B0%D0%BD_%D0%BF%D0%BE_%D0%92%D0%92%D0%9F_(%D0%BD%D0%BE%D0%BC%D0%B8%D0%BD%D0%B0%D0%BB)) 5 разных стран по версии всемирного банка и попробуем сформировать из них таблицу. Передавать данных в DataFrame мы будем используя знакомый синтаксис словаря Python.\n"
      ]
    },
    {
      "cell_type": "code",
      "metadata": {
        "id": "NEFyE2SRqcUy"
      },
      "source": [
        "import pandas as pd\n",
        "\n",
        "df = pd.DataFrame({\n",
        "    'Страна': ['США', 'Китай', 'Россия', 'Турция', 'ЮАР'],\n",
        "    '2018 год': [20612, 13842, 1665, 780, 368],\n",
        "    '2019 год': [21433, 14402, 1702, 761, 351],\n",
        "})\n",
        "\n",
        "df\n",
        "\n"
      ],
      "execution_count": null,
      "outputs": []
    },
    {
      "cell_type": "markdown",
      "metadata": {
        "id": "4Ot7U-f026FX"
      },
      "source": [
        "Объект **DataFrame** имеет два индекса по столбцам и строкам. Если индекс по строкам не указан вручную, то pandas задает его автоматически."
      ]
    },
    {
      "cell_type": "markdown",
      "metadata": {
        "id": "Nj-BDLpC2-U1"
      },
      "source": [
        "**Индексы**\n",
        "\n",
        "Назначать индексы объекту **DataFrame** можно при его создании или в процессе работы с ним.\n"
      ]
    },
    {
      "cell_type": "code",
      "metadata": {
        "id": "LtxyhFuxqmFg"
      },
      "source": [
        "import pandas as pd\n",
        "\n",
        "df = pd.DataFrame({\n",
        "    'Страна': ['США', 'Китай', 'Россия', 'Турция', 'ЮАР'],\n",
        "    '2018 год': [20612, 13842, 1665, 780, 368],\n",
        "    '2019 год': [21433, 14402, 1702, 761, 351],\n",
        "}, index=['US', 'CN', 'RU', 'TR', 'ZA']\n",
        "\n",
        ")\n",
        "\n",
        "df"
      ],
      "execution_count": null,
      "outputs": []
    },
    {
      "cell_type": "markdown",
      "metadata": {
        "id": "ezpLusS03-ld"
      },
      "source": [
        "Вызывая метод **DataFrame** мы передали ему аргумент **index** со списком именованных индексов."
      ]
    },
    {
      "cell_type": "markdown",
      "metadata": {
        "id": "1tWZhk-54IvM"
      },
      "source": [
        "# **Фильтрация данных**\n",
        "\n",
        "Pandas позволяет производить фильтрацию вывода по индексам и столбцам. Так же можно комбинировать индексы и колонки, использовать слайсы и логические выражения.\n",
        "\n"
      ]
    },
    {
      "cell_type": "markdown",
      "metadata": {
        "id": "m_VkDNNZ4PXP"
      },
      "source": [
        "**По столбцу**\n",
        "\n",
        "Обращение к столбцам в pandas реализовано стандартным образом, так как будто вы обращаетесь к ключу словаря, или же к методу объекта. В моем случае обращение как к методу объекта невозможно, я выбрал кириллическое название столбца, а работает только с латиницей"
      ]
    },
    {
      "cell_type": "code",
      "metadata": {
        "id": "c1L2GpBvqwiP"
      },
      "source": [
        "df[\"Страна\"]"
      ],
      "execution_count": null,
      "outputs": []
    },
    {
      "cell_type": "markdown",
      "metadata": {
        "id": "948Ddxb54fvf"
      },
      "source": [
        "**По строковому индексу**\n",
        "\n",
        "Для обращения к строковым индекса существуют два метода\n",
        "1.   **loc** – для доступа по именованному индексу\n",
        "2.   **iloc** – для доступа по числовому индексу"
      ]
    },
    {
      "cell_type": "code",
      "metadata": {
        "id": "PSzRumGFq0xn"
      },
      "source": [
        "df.loc[\"RU\"]"
      ],
      "execution_count": null,
      "outputs": []
    },
    {
      "cell_type": "markdown",
      "metadata": {
        "id": "eovLBeYf40-U"
      },
      "source": [
        "Обращение к именованному индексу **RU**"
      ]
    },
    {
      "cell_type": "code",
      "metadata": {
        "id": "AdSpH9KNsq2j"
      },
      "source": [
        "df.iloc[0]"
      ],
      "execution_count": null,
      "outputs": []
    },
    {
      "cell_type": "markdown",
      "metadata": {
        "id": "_Vwt8aEZ4_oz"
      },
      "source": [
        "Обращение к числовому индексу"
      ]
    },
    {
      "cell_type": "markdown",
      "metadata": {
        "id": "srNiq0YY5Evv"
      },
      "source": [
        "**По срезами**\n",
        "\n",
        "Объект **DataFrame** поддерживает использование срезов.\n"
      ]
    },
    {
      "cell_type": "code",
      "metadata": {
        "id": "lu-KhNm4sxGz"
      },
      "source": [
        "df[2:]"
      ],
      "execution_count": null,
      "outputs": []
    },
    {
      "cell_type": "markdown",
      "metadata": {
        "id": "ytQOG6t-tH2I"
      },
      "source": [
        "Отобразим все строки начиная с 3."
      ]
    },
    {
      "cell_type": "markdown",
      "metadata": {
        "id": "UDRHGZLSuHdf"
      },
      "source": [
        "**С использованием условий**\n",
        "\n",
        "Мы так же можем использовать логику в фильтрации данных. Давайте отобразить странны, в которых ВВП на душу населения в 2019 году был больше 761$\n"
      ]
    },
    {
      "cell_type": "code",
      "metadata": {
        "id": "d-JGnLXCrGcz"
      },
      "source": [
        "df[df[\"2019 год\"] > 761]['Страна']"
      ],
      "execution_count": null,
      "outputs": []
    },
    {
      "cell_type": "markdown",
      "metadata": {
        "id": "H4ICXJzFuMEp"
      },
      "source": [
        "# **Работа с столбцами**\n",
        "\n",
        "Вы можете создавать, удалять и переименовывать ваши столбцы в любой момент времени.\n"
      ]
    },
    {
      "cell_type": "markdown",
      "metadata": {
        "id": "FBFRlrfG51_M"
      },
      "source": [
        "**Переименование**\n",
        "\n",
        "Для переименования столбца существует метод rename\n",
        "Давайте переименуем наши столбцы с указанием года."
      ]
    },
    {
      "cell_type": "code",
      "metadata": {
        "id": "QhVJ8iI_uNuy"
      },
      "source": [
        "df.rename(columns={'2018 год': '2018', '2019 год': '2019'})"
      ],
      "execution_count": null,
      "outputs": []
    },
    {
      "cell_type": "markdown",
      "metadata": {
        "id": "DjNLWHzc6S8F"
      },
      "source": [
        "Метод **rename** на вход принимает обычный словарь, ключ который является текущем названием столбца, а значение – новым. За один раз мы можем переименовать сколько угодно столбцов, главное не забывайте разделять элементы словаря запятой.\n",
        "\n",
        "**Важно**: результат выполнение метода rename возвращает новый измененный объект **DataFrame**, поэтому переназначь основной экземпляр **DataFrame**.\n"
      ]
    },
    {
      "cell_type": "markdown",
      "metadata": {
        "id": "MlKhLfOw6iGp"
      },
      "source": [
        "**Создание**\n",
        "\n",
        "Создадим новую колонку “Рост” и наполним ее значениями высчитанными из разницы 2019 к 2018 году.\n"
      ]
    },
    {
      "cell_type": "code",
      "metadata": {
        "id": "jMSWQOm791tI"
      },
      "source": [
        "dfr=df.rename(columns={'2018 год': '2018', '2019 год': '2019'})"
      ],
      "execution_count": null,
      "outputs": []
    },
    {
      "cell_type": "code",
      "metadata": {
        "id": "oEZ50WSUu6p3"
      },
      "source": [
        "dfr[\"Рост\"] = dfr['2019'] - dfr['2018']\n",
        "dfr"
      ],
      "execution_count": null,
      "outputs": []
    },
    {
      "cell_type": "markdown",
      "metadata": {
        "id": "Lo-4DSv4-aCr"
      },
      "source": [
        "**Удаление**\n",
        "\n",
        "Для удаления столбца существует метод **drop**, так же необходимо передать в аргумент **axis** значение **index** или **columns**.\n"
      ]
    },
    {
      "cell_type": "code",
      "metadata": {
        "id": "kIc5Wchsu6vO"
      },
      "source": [
        "dfr.drop([\"Рост\"], axis=\"columns\")"
      ],
      "execution_count": null,
      "outputs": []
    },
    {
      "cell_type": "markdown",
      "metadata": {
        "id": "kw_s5c-X-nvF"
      },
      "source": [
        "**Важно:** результат выполнение метода **drop** возвращает новый измененный объект **DataFrame**, поэтому не забудьте переназначить **DataFrame**."
      ]
    },
    {
      "cell_type": "code",
      "metadata": {
        "id": "YBgQW_UI-yWQ"
      },
      "source": [
        "dfr"
      ],
      "execution_count": null,
      "outputs": []
    },
    {
      "cell_type": "code",
      "metadata": {
        "id": "WGjCNGF1-2Nn"
      },
      "source": [
        "dfr2=dfr.drop([\"Рост\"], axis=\"columns\")\n",
        "dfr2"
      ],
      "execution_count": null,
      "outputs": []
    },
    {
      "cell_type": "markdown",
      "metadata": {
        "id": "3yw6a8c4_BT_"
      },
      "source": [
        "# **Загрузка данных**\n",
        "\n",
        "**API** загрузки данных имеет поддержку множество структурированных форматов. Для примера возьмем информацию из [Реестра аккредитованных образовательных учреждений, расположенных на территории субъектов Российской Федерации](https://data.mos.ru/opendata/2021). На сайте есть ссылочка для скачивания таблиц в формате **CSV** и **MS Excel** эти два формата мы и рассмотрим.\n"
      ]
    },
    {
      "cell_type": "markdown",
      "metadata": {
        "id": "3or26T0hxOnY"
      },
      "source": [
        "**Из таблицы CSV**\n",
        "\n",
        "Осуществить загрузку данных в таблицу можно используя метод **read_csv**\n"
      ]
    },
    {
      "cell_type": "code",
      "metadata": {
        "id": "aO8zPnYSwUhu"
      },
      "source": [
        "from google.colab import files\n",
        "uploaded = files.upload()"
      ],
      "execution_count": null,
      "outputs": []
    },
    {
      "cell_type": "code",
      "metadata": {
        "id": "vaRU5endA0Ml"
      },
      "source": [
        "# Загрузим данные из csv документа\n",
        "data_csv = pd.read_csv(\"Data5.csv\", sep=';')"
      ],
      "execution_count": null,
      "outputs": []
    },
    {
      "cell_type": "code",
      "metadata": {
        "id": "iBLKB2BoCs4R"
      },
      "source": [
        "data_csv"
      ],
      "execution_count": null,
      "outputs": []
    },
    {
      "cell_type": "code",
      "source": [
        "!rm data-6322-2022-10-06.xlsx"
      ],
      "metadata": {
        "id": "xsbRtrEdCZGf"
      },
      "execution_count": null,
      "outputs": []
    },
    {
      "cell_type": "markdown",
      "metadata": {
        "id": "BefygGY5HVT1"
      },
      "source": [
        "**Из таблицы MS Excel**\n",
        "\n",
        "За загрузку данных из **excel** таблицы отвечает метод **read_excel**\n"
      ]
    },
    {
      "cell_type": "code",
      "metadata": {
        "id": "MaguUu-1Hb5p"
      },
      "source": [
        "from google.colab import files\n",
        "uploaded = files.upload()"
      ],
      "execution_count": null,
      "outputs": []
    },
    {
      "cell_type": "code",
      "source": [
        "!ls"
      ],
      "metadata": {
        "id": "vutJlYNNBbR_"
      },
      "execution_count": null,
      "outputs": []
    },
    {
      "cell_type": "code",
      "metadata": {
        "id": "dQVNehcdHo8Z"
      },
      "source": [
        "data_xlsx = pd.read_excel(\"data-6322-2022-10-06 — копия.xlsx\")"
      ],
      "execution_count": null,
      "outputs": []
    },
    {
      "cell_type": "code",
      "metadata": {
        "id": "ENcIhMgdH2Zv"
      },
      "source": [
        "data_xlsx"
      ],
      "execution_count": null,
      "outputs": []
    },
    {
      "cell_type": "code",
      "source": [
        "data_xlsx.to_excel(\"country.xlsx\",encoding='cp1251')"
      ],
      "metadata": {
        "id": "rE_cgfULKTI7"
      },
      "execution_count": null,
      "outputs": []
    },
    {
      "cell_type": "markdown",
      "metadata": {
        "id": "6Oh-511UIA1q"
      },
      "source": [
        "# **Сохранение данных**\n",
        "\n",
        "Так же как и в импорте API поддерживает множество форматов для экспорта данных. Воспользуемся данными о ВВП для демонстрации работы.\n"
      ]
    },
    {
      "cell_type": "markdown",
      "metadata": {
        "id": "vZ6_BN_mx0ew"
      },
      "source": [
        "**В таблицу CSV**\n",
        "\n",
        "За запись данных в таблицу **CSV** отвечает метод **to_csv**\n"
      ]
    },
    {
      "cell_type": "code",
      "metadata": {
        "id": "TtNL4TXEw8pM"
      },
      "source": [
        "import pandas as pd\n",
        "\n",
        "df = pd.DataFrame({\n",
        "    'Страна': ['США', 'Китай', 'Россия', 'Турция', 'ЮАР'],\n",
        "    '2018 год': [20612, 13842, 1665, 780, 368],\n",
        "    '2019 год': [21433, 14402, 1702, 761, 351],\n",
        "}, index=['US', 'CN', 'RU', 'TR', 'ZA']\n",
        "\n",
        ")\n",
        "\n",
        "df.to_csv(\"country.csv\",encoding='cp1251')"
      ],
      "execution_count": null,
      "outputs": []
    },
    {
      "cell_type": "markdown",
      "metadata": {
        "id": "suXhJ8mTI3jj"
      },
      "source": [
        "Скачивание файлов в локальную файловую систему\n",
        "Метод **files.download **активирует скачивание файла из браузера на локальный компьютер."
      ]
    },
    {
      "cell_type": "code",
      "metadata": {
        "id": "p2E4EKhCWEC5"
      },
      "source": [
        "from google.colab import files\n",
        "\n",
        "files.download('country.csv')"
      ],
      "execution_count": null,
      "outputs": []
    },
    {
      "cell_type": "markdown",
      "metadata": {
        "id": "6PKBT4H4JopK"
      },
      "source": [
        "**В таблицу MS Excel**\n",
        "\n",
        "За запись данных в таблицу **MS Excel** отвечает метод **to_excel**\n"
      ]
    },
    {
      "cell_type": "code",
      "metadata": {
        "id": "krEolWOZxxid"
      },
      "source": [
        "import pandas as pd\n",
        "\n",
        "df = pd.DataFrame({\n",
        "    'Страна': ['США', 'Китай', 'Россия', 'Турция', 'ЮАР'],\n",
        "    '2018 год': [20612, 13842, 1665, 780, 368],\n",
        "    '2019 год': [21433, 14402, 1702, 761, 351],\n",
        "}, index=['US', 'CN', 'RU', 'TR', 'ZA']\n",
        "\n",
        ")\n",
        "\n",
        "df.to_excel(\"country.xlsx\",encoding='cp1251')"
      ],
      "execution_count": null,
      "outputs": []
    },
    {
      "cell_type": "code",
      "metadata": {
        "id": "zAqW_ngGJ39_",
        "colab": {
          "base_uri": "https://localhost:8080/",
          "height": 17
        },
        "outputId": "f2d58919-0539-4332-eeb4-4bd131d95427"
      },
      "source": [
        "from google.colab import files\n",
        "\n",
        "files.download('country.xlsx')"
      ],
      "execution_count": null,
      "outputs": [
        {
          "output_type": "display_data",
          "data": {
            "text/plain": [
              "<IPython.core.display.Javascript object>"
            ],
            "application/javascript": [
              "\n",
              "    async function download(id, filename, size) {\n",
              "      if (!google.colab.kernel.accessAllowed) {\n",
              "        return;\n",
              "      }\n",
              "      const div = document.createElement('div');\n",
              "      const label = document.createElement('label');\n",
              "      label.textContent = `Downloading \"${filename}\": `;\n",
              "      div.appendChild(label);\n",
              "      const progress = document.createElement('progress');\n",
              "      progress.max = size;\n",
              "      div.appendChild(progress);\n",
              "      document.body.appendChild(div);\n",
              "\n",
              "      const buffers = [];\n",
              "      let downloaded = 0;\n",
              "\n",
              "      const channel = await google.colab.kernel.comms.open(id);\n",
              "      // Send a message to notify the kernel that we're ready.\n",
              "      channel.send({})\n",
              "\n",
              "      for await (const message of channel.messages) {\n",
              "        // Send a message to notify the kernel that we're ready.\n",
              "        channel.send({})\n",
              "        if (message.buffers) {\n",
              "          for (const buffer of message.buffers) {\n",
              "            buffers.push(buffer);\n",
              "            downloaded += buffer.byteLength;\n",
              "            progress.value = downloaded;\n",
              "          }\n",
              "        }\n",
              "      }\n",
              "      const blob = new Blob(buffers, {type: 'application/binary'});\n",
              "      const a = document.createElement('a');\n",
              "      a.href = window.URL.createObjectURL(blob);\n",
              "      a.download = filename;\n",
              "      div.appendChild(a);\n",
              "      a.click();\n",
              "      div.remove();\n",
              "    }\n",
              "  "
            ]
          },
          "metadata": {}
        },
        {
          "output_type": "display_data",
          "data": {
            "text/plain": [
              "<IPython.core.display.Javascript object>"
            ],
            "application/javascript": [
              "download(\"download_56b1e31d-3075-4dd7-ab03-ccb21d04d6f1\", \"country.xlsx\", 114316)"
            ]
          },
          "metadata": {}
        }
      ]
    },
    {
      "cell_type": "markdown",
      "metadata": {
        "id": "GoQpt7SDKHAZ"
      },
      "source": [
        "# **Визуализация данных**\n",
        "Визуализация это большая часть работы в анализе и обработке данных. Не будем сильно углубляться и рассмотрим простой пример визуализации наших данных.\n"
      ]
    },
    {
      "cell_type": "markdown",
      "metadata": {
        "id": "bZCoYOppKL1U"
      },
      "source": [
        "Установка библиотеки **matplotlib**\n",
        "\n",
        "Для рисования графиков нам понадобится эта библиотека\n"
      ]
    },
    {
      "cell_type": "code",
      "metadata": {
        "id": "2pfYx4U2KNrS"
      },
      "source": [
        "import matplotlib.pyplot as plt"
      ],
      "execution_count": null,
      "outputs": []
    },
    {
      "cell_type": "markdown",
      "metadata": {
        "id": "ahFcGLpiKXRU"
      },
      "source": [
        "**Создание графиков**\n",
        "\n",
        "Самый просто способ сгенерировать график, это передать обработчику данные для одной из координат, для второй он возьмет информацию из индекса.\n"
      ]
    },
    {
      "cell_type": "code",
      "metadata": {
        "id": "EdtMf1wmyeq5"
      },
      "source": [
        "df.plot(kind='barh', y='2018 год', color='red')\n",
        "plt.show()\n"
      ],
      "execution_count": null,
      "outputs": []
    },
    {
      "cell_type": "code",
      "metadata": {
        "id": "zrLx1dYUKga2"
      },
      "source": [
        "df.plot(kind='barh', y='2019 год', color='blue')\n",
        "plt.show()"
      ],
      "execution_count": null,
      "outputs": []
    },
    {
      "cell_type": "markdown",
      "metadata": {
        "id": "AQsi5tmzKp8S"
      },
      "source": [
        "**Объединение данных на одном графике**\n",
        "\n",
        "У нас есть отдельный график для 2018 и 2019 года, но как их объединить в одной диаграмме? Очень просто, нужно использовать метод pivot из библиотеки **pandas**.\n"
      ]
    },
    {
      "cell_type": "code",
      "metadata": {
        "id": "WYgb4ge8Kv3W"
      },
      "source": [
        "df.pivot(columns=\"Страна\").plot(kind='bar')\n",
        "plt.show()\n"
      ],
      "execution_count": null,
      "outputs": []
    },
    {
      "cell_type": "markdown",
      "metadata": {
        "id": "GdoLIRENW0iB"
      },
      "source": [
        "# Автоматизация выбора данных (парсинг)"
      ]
    },
    {
      "cell_type": "code",
      "metadata": {
        "id": "NFhr0U3RW7Pd"
      },
      "source": [
        "import pandas as pd\n",
        "import numpy as np\n",
        "import matplotlib.pyplot as plt\n",
        "from unicodedata import normalize"
      ],
      "execution_count": null,
      "outputs": []
    },
    {
      "cell_type": "markdown",
      "metadata": {
        "id": "FMXjWvl1Xuqb"
      },
      "source": [
        "**ИЗВЛЕЧЕНИЕ ТАБЛИЦ**\n",
        "\n",
        "Вызовем функцию read_html, передав аргументом ссылку на страницу."
      ]
    },
    {
      "cell_type": "code",
      "metadata": {
        "id": "b9EqjE84XVz9"
      },
      "source": [
        "# Список стран по ВВП (номинал)\n",
        "tables = pd.read_html(\n",
        "    'https://ru.wikipedia.org/wiki/%D0%A1%D0%BF%D0%B8%D1%81%D0%BE%D0%BA_%D1%81%D1%82%D1%80%D0%B0%D0%BD_%D0%BF%D0%BE_%D0%92%D0%92%D0%9F_(%D0%BD%D0%BE%D0%BC%D0%B8%D0%BD%D0%B0%D0%BB)',\n",
        "    match='Страна')"
      ],
      "execution_count": null,
      "outputs": []
    },
    {
      "cell_type": "code",
      "metadata": {
        "id": "CNptnEmVXbdE"
      },
      "source": [
        "len(tables)"
      ],
      "execution_count": null,
      "outputs": []
    },
    {
      "cell_type": "code",
      "metadata": {
        "id": "znIy_Ld-X0hT"
      },
      "source": [
        "df = tables[1]\n",
        "df"
      ],
      "execution_count": null,
      "outputs": []
    },
    {
      "cell_type": "code",
      "metadata": {
        "id": "pHnNh8M8PP2y"
      },
      "source": [
        "df1 = tables[0]\n",
        "df1"
      ],
      "execution_count": null,
      "outputs": []
    },
    {
      "cell_type": "markdown",
      "metadata": {
        "id": "M5APDdgWYmqp"
      },
      "source": [
        "**ОБРАБАТЫВАЕМ ТАБЛИЦЫ**\n",
        "\n",
        "В первую очередь избавимся от лишнего столбца, вызвав метод drop."
      ]
    },
    {
      "cell_type": "code",
      "metadata": {
        "id": "9edsTjCiYoZN"
      },
      "source": [
        "df.drop(('№'), axis=1, inplace=True)"
      ],
      "execution_count": null,
      "outputs": []
    },
    {
      "cell_type": "code",
      "metadata": {
        "id": "EqJ6KxtxZ1pU"
      },
      "source": [
        "df"
      ],
      "execution_count": null,
      "outputs": []
    },
    {
      "cell_type": "code",
      "metadata": {
        "id": "URG4V7T3drUT"
      },
      "source": [
        "print(df.to_string())"
      ],
      "execution_count": null,
      "outputs": []
    },
    {
      "cell_type": "markdown",
      "metadata": {
        "id": "JYSSaXsyauAn"
      },
      "source": [
        "Кроме того, следует убрать источники, заключённые в квадратные скобки. Для этого мы воспользуемся методом replace, указав регулярное выражение и **regex=True**. Теперь таблица выглядит более приемлемо."
      ]
    },
    {
      "cell_type": "code",
      "metadata": {
        "id": "fxxODcdjawMg"
      },
      "source": [
        "df.replace({'\\[[0-9]+\\]': ''}, regex=True, inplace=True)"
      ],
      "execution_count": null,
      "outputs": []
    },
    {
      "cell_type": "code",
      "metadata": {
        "id": "dFl7RJpjeXWQ"
      },
      "source": [
        "print(df.to_string())"
      ],
      "execution_count": null,
      "outputs": []
    },
    {
      "cell_type": "code",
      "metadata": {
        "id": "1YcE_BSubNpp"
      },
      "source": [
        "df"
      ],
      "execution_count": null,
      "outputs": []
    },
    {
      "cell_type": "markdown",
      "metadata": {
        "id": "gU5qOfTVbgJQ"
      },
      "source": [
        "Теперь отбросим нижний результирующий уровень"
      ]
    },
    {
      "cell_type": "code",
      "metadata": {
        "id": "kkwAKFawbeX8"
      },
      "source": [
        "df.drop(df.index[len(df)-1])"
      ],
      "execution_count": null,
      "outputs": []
    },
    {
      "cell_type": "code",
      "metadata": {
        "id": "hovwxu5Eetua"
      },
      "source": [
        "df.to_excel(\"countryALL.xlsx\",encoding='cp1251')"
      ],
      "execution_count": null,
      "outputs": []
    },
    {
      "cell_type": "code",
      "metadata": {
        "id": "Gk0A11E3e6Uw",
        "colab": {
          "base_uri": "https://localhost:8080/",
          "height": 17
        },
        "outputId": "512311d8-486b-4009-a51a-fced75802f0a"
      },
      "source": [
        "from google.colab import files\n",
        "\n",
        "files.download('countryALL.xlsx')"
      ],
      "execution_count": null,
      "outputs": [
        {
          "output_type": "display_data",
          "data": {
            "text/plain": [
              "<IPython.core.display.Javascript object>"
            ],
            "application/javascript": [
              "\n",
              "    async function download(id, filename, size) {\n",
              "      if (!google.colab.kernel.accessAllowed) {\n",
              "        return;\n",
              "      }\n",
              "      const div = document.createElement('div');\n",
              "      const label = document.createElement('label');\n",
              "      label.textContent = `Downloading \"${filename}\": `;\n",
              "      div.appendChild(label);\n",
              "      const progress = document.createElement('progress');\n",
              "      progress.max = size;\n",
              "      div.appendChild(progress);\n",
              "      document.body.appendChild(div);\n",
              "\n",
              "      const buffers = [];\n",
              "      let downloaded = 0;\n",
              "\n",
              "      const channel = await google.colab.kernel.comms.open(id);\n",
              "      // Send a message to notify the kernel that we're ready.\n",
              "      channel.send({})\n",
              "\n",
              "      for await (const message of channel.messages) {\n",
              "        // Send a message to notify the kernel that we're ready.\n",
              "        channel.send({})\n",
              "        if (message.buffers) {\n",
              "          for (const buffer of message.buffers) {\n",
              "            buffers.push(buffer);\n",
              "            downloaded += buffer.byteLength;\n",
              "            progress.value = downloaded;\n",
              "          }\n",
              "        }\n",
              "      }\n",
              "      const blob = new Blob(buffers, {type: 'application/binary'});\n",
              "      const a = document.createElement('a');\n",
              "      a.href = window.URL.createObjectURL(blob);\n",
              "      a.download = filename;\n",
              "      div.appendChild(a);\n",
              "      a.click();\n",
              "      div.remove();\n",
              "    }\n",
              "  "
            ]
          },
          "metadata": {}
        },
        {
          "output_type": "display_data",
          "data": {
            "text/plain": [
              "<IPython.core.display.Javascript object>"
            ],
            "application/javascript": [
              "download(\"download_fc18735f-174a-4617-aaf6-7925a6953ec8\", \"countryALL.xlsx\", 11176)"
            ]
          },
          "metadata": {}
        }
      ]
    },
    {
      "cell_type": "markdown",
      "metadata": {
        "id": "jel9jjQ1g0IN"
      },
      "source": [
        "# Импорт Фрейма в  MYsql"
      ]
    },
    {
      "cell_type": "markdown",
      "metadata": {
        "id": "hmlWd0s7g5ex"
      },
      "source": []
    },
    {
      "cell_type": "code",
      "metadata": {
        "id": "4lieANhCiCj_"
      },
      "source": [
        " !pip install PyMySQL\n",
        " !pip install mysql-connector-python"
      ],
      "execution_count": null,
      "outputs": []
    },
    {
      "cell_type": "code",
      "metadata": {
        "id": "Ra9raiA1g5_q"
      },
      "source": [
        "# Import dataframe into MySQL\n",
        "import sqlalchemy\n",
        "database_username = ''\n",
        "database_password = '1'\n",
        "database_ip       = '95.131.149.21'\n",
        "database_name     = ''\n",
        "database_connection = sqlalchemy.create_engine('mysql+mysqlconnector://{0}:{1}@{2}/{3}'.format(database_username, database_password, database_ip, database_name))\n",
        "df.to_sql(con=database_connection, name='table_test', if_exists='replace')"
      ],
      "execution_count": null,
      "outputs": []
    },
    {
      "cell_type": "markdown",
      "source": [
        "После загрузки данных, отключить соединение с СУБД."
      ],
      "metadata": {
        "id": "iTS4T2Cg_gEq"
      }
    },
    {
      "cell_type": "code",
      "source": [
        "from sqlalchemy import create_engine\n",
        "from sqlalchemy.orm import sessionmaker"
      ],
      "metadata": {
        "id": "lvAuz6Z6_dSJ"
      },
      "execution_count": null,
      "outputs": []
    },
    {
      "cell_type": "code",
      "source": [
        "Session = sessionmaker(database_connection)\n",
        "session = Session()"
      ],
      "metadata": {
        "id": "iL8n-qbg_fSI"
      },
      "execution_count": null,
      "outputs": []
    },
    {
      "cell_type": "code",
      "source": [
        "session.close()"
      ],
      "metadata": {
        "id": "sWzSq0tm_oyB"
      },
      "execution_count": null,
      "outputs": []
    },
    {
      "cell_type": "markdown",
      "metadata": {
        "id": "QB3yesItUskm"
      },
      "source": []
    }
  ]
}